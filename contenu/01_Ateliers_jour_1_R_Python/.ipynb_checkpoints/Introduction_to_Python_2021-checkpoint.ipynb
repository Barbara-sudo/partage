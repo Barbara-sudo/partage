{
 "cells": [
  {
   "cell_type": "markdown",
   "metadata": {
    "id": "xc0FJpnOH0rv"
   },
   "source": [
    "# Phython Project"
   ]
  },
  {
   "cell_type": "markdown",
   "metadata": {
    "id": "Gxbpg5ryKLsq"
   },
   "source": [
    "\n",
    "Author: maria.virginia.ruiz.cuevas@umontreal.ca\n"
   ]
  },
  {
   "cell_type": "markdown",
   "metadata": {
    "id": "H7P3Sk-gH0r8"
   },
   "source": [
    "# Loading the Iris data set"
   ]
  },
  {
   "cell_type": "code",
   "execution_count": 1,
   "metadata": {
    "id": "n6yZ2P5PPGTL"
   },
   "outputs": [],
   "source": [
    "## Here the library is pandas and to use the library we need to use the reserved word 'import'\n",
    "\n",
    "## Pandas is a library that have functions for data manipulation and analysis.\n",
    "\n",
    "## TO DO:\n",
    "## Fill the spaces *** \n",
    "\n",
    "## Import pandas library\n",
    "\n",
    "import ***\n"
   ]
  },
  {
   "cell_type": "code",
   "execution_count": null,
   "metadata": {
    "ExecuteTime": {
     "end_time": "2020-12-17T21:36:17.399054Z",
     "start_time": "2020-12-17T21:36:17.353785Z"
    },
    "id": "YaWTrWZ_H0r8"
   },
   "outputs": [],
   "source": [
    "\n",
    "## Load the iris dataset and save it in the variable iris_dataset\n",
    "\n",
    "## Remember: A variable is an area of computer memory in which a value is stored\n",
    "link_iris_data_set = 'https://raw.githubusercontent.com/VirginieR/Data.Trek.Python.2020/main/Iris_data_set.csv'\n",
    "\n",
    "## TO DO:\n",
    "## Fill the spaces *** \n",
    "\n",
    "iris_dataset = pandas.read_csv(link_iris_data_set)\n",
    "\n",
    "# Let's see the Iris data set:\n",
    "\n",
    "# The method head() will show the 'head' of the iris data set. \n",
    "# This serves to know if the data set has been loaded succesfully but also\n",
    "# to give you an idea on how it looks like.\n",
    "\n",
    "# Here the 5th first lines of the data set!\n",
    "## TO DO:\n",
    "## Fill the spaces ***\n",
    "iris_dataset.***\n"
   ]
  },
  {
   "cell_type": "code",
   "execution_count": null,
   "metadata": {
    "ExecuteTime": {
     "end_time": "2020-12-17T21:36:19.099470Z",
     "start_time": "2020-12-17T21:36:19.082043Z"
    },
    "id": "BzGxC56jH0r-"
   },
   "outputs": [],
   "source": [
    "# Let's see the shape of our data set\n",
    "print (\"Shape of te iris data set\")\n",
    "print (iris_dataset.***)\n",
    "print ()\n",
    "\n",
    "# Let's see the size of our data set\n",
    "print ('Size :')\n",
    "print (iris_dataset.***)\n",
    "print ()\n",
    "\n",
    "# Let's see how many examples we have of each species: value_counts()\n",
    "print (\"No of samples available for each specie\")\n",
    "print (iris_dataset[\"species\"].***)\n"
   ]
  },
  {
   "cell_type": "markdown",
   "metadata": {
    "id": "8okD_QmZH0r_"
   },
   "source": [
    "# Analysis"
   ]
  },
  {
   "cell_type": "markdown",
   "metadata": {
    "id": "Ejh89AD6H0sA"
   },
   "source": [
    "### Calculating mean and median of a particular feauture"
   ]
  },
  {
   "cell_type": "code",
   "execution_count": null,
   "metadata": {
    "ExecuteTime": {
     "end_time": "2020-12-17T21:36:23.451555Z",
     "start_time": "2020-12-17T21:36:23.435053Z"
    },
    "id": "VqxG0MweH0sA"
   },
   "outputs": [],
   "source": [
    "mean_data_sepal_width = iris_dataset[\"sepal_width\"].mean() \n",
    "median_data_sepal_width = iris_dataset[\"sepal_width\"].median()\n",
    "\n",
    "print (\"Mean sepal_width:\", mean_data_sepal_width, \"\\nMedian sepal_width:\",median_data_sepal_width ,\"\\n\")\n",
    "\n",
    "mean_data_sepal_length = iris_dataset[\"sepal_length\"].mean() \n",
    "median_data_sepal_length = iris_dataset[\"sepal_length\"].median()\n",
    "\n",
    "print (\"Mean sepal_length:\", mean_data_sepal_length, \"\\nMedian sepal_length:\",median_data_sepal_length)"
   ]
  },
  {
   "cell_type": "code",
   "execution_count": null,
   "metadata": {
    "ExecuteTime": {
     "end_time": "2020-12-17T20:39:12.170105Z",
     "start_time": "2020-12-17T20:39:12.153877Z"
    },
    "id": "q2QECLpLH0sB"
   },
   "outputs": [],
   "source": [
    "## TO DO:\n",
    "\n",
    "mean_data_petal_width = iris_dataset[\"petal_width\"].***\n",
    "median_data_petal_width = iris_dataset[\"petal_width\"].***\n",
    "\n",
    "print (\"Mean petal_width:\", mean_data_petal_width, \"\\nMedian petal_width:\",median_data_petal_width ,\"\\n\")\n",
    "\n",
    "mean_data_petal_length =  ***\n",
    "median_data_petal_length = ***\n",
    "\n",
    "print (\"Mean petal_length:\", mean_data_petal_length, \"\\nMedian petal_length:\",median_data_petal_length)"
   ]
  },
  {
   "cell_type": "markdown",
   "metadata": {
    "id": "c33U8O8JH0sC"
   },
   "source": [
    "<B> Observations: </B> \n",
    "\n",
    "\n",
    "\n",
    "<font color=\"red\"> **From this small analysis we can conclude that in relation to their length and width the petals are smaller segments than the sepals. This is to be expected, since sepals are modified leaves that wrap around the developing flower.** </font>\n"
   ]
  },
  {
   "cell_type": "markdown",
   "metadata": {
    "id": "3JlC2-4yH0sD"
   },
   "source": [
    "## Data Visualization\n",
    "<b>Visualization of the width and length of the Sepals and Petals</b>"
   ]
  },
  {
   "cell_type": "markdown",
   "metadata": {
    "ExecuteTime": {
     "start_time": "2020-11-03T16:14:59.567Z"
    },
    "id": "xZfoow11H0sD"
   },
   "source": [
    "One of the first things we need to do before working with a data set is to know a little more about the data.\n",
    "\n",
    "In this sense, it is relevant that we first do some visualizations of the data. \n",
    "\n",
    "1. Distribution of sepal_width for all species\n",
    "2. Distribution of sepal_length for all species\n",
    "3. Distribution of petal_width for all species\n",
    "4. Distribution of petal_length for all species\n",
    "\n",
    "Distribution plots are used to visually assess how the flowers are distributed with respect to its frequency:\n",
    "* Usually the flowers are grouped into bins and the height of the bars representing each bin shows the number of flowers within that bin : <b>histogram</b> "
   ]
  },
  {
   "cell_type": "markdown",
   "metadata": {
    "id": "NsFtadGCH0sE"
   },
   "source": [
    "### Plot Distributions "
   ]
  },
  {
   "cell_type": "markdown",
   "metadata": {
    "id": "YkuvA9TIH0sE"
   },
   "source": [
    "#### Distribution of sepal_width for all species"
   ]
  },
  {
   "cell_type": "code",
   "execution_count": null,
   "metadata": {
    "ExecuteTime": {
     "end_time": "2020-12-17T21:42:32.864418Z",
     "start_time": "2020-12-17T21:42:32.619030Z"
    },
    "id": "QWyRXJo4H0sE"
   },
   "outputs": [],
   "source": [
    "# To make visualizations in Python:\n",
    "\n",
    "# we need to use again another library specialized making figures! \n",
    "# This library needs only to be imported once on your project.\n",
    "import matplotlib.pyplot as plt\n",
    "\n",
    "# We need to extract the information about the sepal_width from the iris_dataset.\n",
    "# This information is in sepal_width column of our iris data set and will be saved on the variable sepal_width\n",
    "sepal_width = iris_dataset[\"sepal_width\"] \n",
    "\n",
    "# We need to set the size of the figure. Width and height in inches.\n",
    "plt.figure(figsize = (7, 4)) \n",
    "\n",
    "# This will visualized an histograme in green color!\n",
    "plt.hist(sepal_width, edgecolor='black', color = \"green\") \n",
    "\n",
    "# Set a vertical line to denotes the median of the sepal_width in red!\n",
    "plt.axvline(median_data_sepal_width, color='red', label='Median')\n",
    "# Shows a legend into the figure that denotes what are the content of the figure\n",
    "plt.legend()\n",
    "\n",
    "# Sets the title of the figure\n",
    "plt.title(\"Sepal Width\") \n",
    "# Sets the label X of the figure\n",
    "plt.xlabel(\"cm\") \n",
    "# Sets the label Y of the figure\n",
    "plt.ylabel(\"Flowers Count\")\n",
    "plt.show()"
   ]
  },
  {
   "cell_type": "markdown",
   "metadata": {
    "id": "6UvWILcwH0sF"
   },
   "source": [
    "#### Distribution of sepal_length for all species"
   ]
  },
  {
   "cell_type": "code",
   "execution_count": null,
   "metadata": {
    "ExecuteTime": {
     "end_time": "2020-12-17T21:53:37.539720Z",
     "start_time": "2020-12-17T21:53:37.414094Z"
    },
    "id": "MiYlo7KiH0sG"
   },
   "outputs": [],
   "source": [
    "## TO DO:\n",
    "\n",
    "## Fill the spaces according to the example above in order to get the histograme and the median \n",
    "## size for the sepal_length\n",
    "\n",
    "# Let's create a new figure!\n",
    "plt.figure(figsize = (7, 4)) \n",
    "\n",
    "# Here you need to extract the information about the sepal_length from the iris_dataset  \n",
    "sepal_length =  ***\n",
    "\n",
    "# Let's change color, fill in the \"\" space with : red\n",
    "plt.hist(sepal_length, edgecolor='black', color = '***') \n",
    "\n",
    "# Set the sepal_length line in green!\n",
    "plt.axvline(median_data_sepal_length, color='***', label='Median')\n",
    "plt.legend()\n",
    "\n",
    "# We need a relevant title for this figure. Here you need to change the title of your figure!\n",
    "plt.title(***) \n",
    "# And also you need to change the label for x axis! \n",
    "plt.xlabel(***) \n",
    "# And also the label for y axis! \n",
    "plt.ylabel(***)\n",
    "plt.show()"
   ]
  },
  {
   "cell_type": "markdown",
   "metadata": {
    "id": "cExVXv3hH0sG"
   },
   "source": [
    "#### Distribution of petal_width for all species"
   ]
  },
  {
   "cell_type": "code",
   "execution_count": null,
   "metadata": {
    "ExecuteTime": {
     "end_time": "2020-12-17T21:54:45.601416Z",
     "start_time": "2020-12-17T21:54:45.467521Z"
    },
    "id": "41gnU9iXH0sG"
   },
   "outputs": [],
   "source": [
    "## TO DO:\n",
    "\n",
    "## Fill the spaces according to the first example in order to get the histograme and the median \n",
    "## size for the petal_width\n",
    "\n",
    "plt.figure(figsize = (7, 4)) \n",
    "\n",
    "petal_width = ***\n",
    "\n",
    "plt.hist(petal_width, edgecolor='black', color = \"blue\") \n",
    "plt.axvline(median_data_petal_width, color='red', label='Median')\n",
    "plt.legend()\n",
    "plt.title(***) \n",
    "plt.xlabel(***) \n",
    "plt.ylabel(***)\n",
    "plt.show()"
   ]
  },
  {
   "cell_type": "markdown",
   "metadata": {
    "id": "XIv51EliH0sH"
   },
   "source": [
    "#### Distribution of petal_length for all species"
   ]
  },
  {
   "cell_type": "code",
   "execution_count": null,
   "metadata": {
    "ExecuteTime": {
     "end_time": "2020-12-17T21:47:35.388420Z",
     "start_time": "2020-12-17T21:47:35.278132Z"
    },
    "id": "EepnCZDBH0sH"
   },
   "outputs": [],
   "source": [
    "## TO DO:\n",
    "\n",
    "## Fill the spaces according to the first example in order to get the histograme and the median \n",
    "## size for the petal_length\n",
    "\n",
    "plt.figure(figsize = (7, 4)) \n",
    "\n",
    "petal_length = ***\n",
    "\n",
    "plt.hist(***) \n",
    "plt.axvline(***)\n",
    "plt.legend()\n",
    "\n",
    "plt.title(***) \n",
    "plt.xlabel(***) \n",
    "plt.ylabel(***)\n",
    "plt.show()"
   ]
  },
  {
   "cell_type": "markdown",
   "metadata": {
    "id": "jKNRijYmH0sI"
   },
   "source": [
    "### Let's visualized all together!"
   ]
  },
  {
   "cell_type": "code",
   "execution_count": null,
   "metadata": {
    "ExecuteTime": {
     "end_time": "2020-12-17T21:57:14.850885Z",
     "start_time": "2020-12-17T21:57:14.523322Z"
    },
    "id": "s9mvyUrXH0sI"
   },
   "outputs": [],
   "source": [
    "import numpy as np\n",
    "\n",
    "fig, ax = plt.subplots(nrows=2, ncols=2, figsize=(8, 6))\n",
    "\n",
    "ax[0][0].hist(sepal_width, edgecolor='black', color = \"green\")\n",
    "ax[0][0].set_title(\"Sepal Width\") \n",
    "ax[0][0].set_xlabel(\"cm\") \n",
    "ax[0][0].set_ylabel(\"Flowers Count\") \n",
    "ax[0][0].axvline(median_data_sepal_width, color='red', label='Median')\n",
    "\n",
    "ax[0][1].hist(sepal_length, edgecolor='black', color = \"red\")\n",
    "ax[0][1].set_title(\"Sepal Length\") \n",
    "ax[0][1].set_xlabel(\"cm\") \n",
    "ax[0][1].set_ylabel(\"Flowers Count\")\n",
    "ax[0][1].axvline(median_data_sepal_length, color='green', label='Median')\n",
    "\n",
    "ax[1][0].hist(petal_width, edgecolor='black', color = \"blue\")\n",
    "ax[1][0].set_title(\"Petal Width\") \n",
    "ax[1][0].set_xlabel(\"cm\") \n",
    "ax[1][0].set_ylabel(\"Flowers Count\")\n",
    "ax[1][0].axvline(median_data_petal_width, color='red', label='Median')\n",
    "\n",
    "ax[1][1].hist(petal_length,  edgecolor='black', color = \"yellow\")\n",
    "ax[1][1].set_title(\"Petal Length\") \n",
    "ax[1][1].set_xlabel(\"cm\") \n",
    "ax[1][1].set_ylabel(\"Flowers Count\")\n",
    "ax[1][1].axvline(median_data_petal_length, color='black', label='Median')\n",
    "\n",
    "fig.tight_layout()\n",
    "plt.show()"
   ]
  },
  {
   "cell_type": "markdown",
   "metadata": {
    "id": "HFqJcps3H0sI"
   },
   "source": [
    "# Distribution comparisons!\n",
    "\n",
    "In order to study the Iris species, we would like to know:\n",
    "\n",
    "<b>What is the width and length distributions of the petals and sepals and the median size of each of this features, for each one of the three species?</b>\n",
    "\n",
    "<b>Are there significant differences between theses disitributions?</b>\n"
   ]
  },
  {
   "cell_type": "markdown",
   "metadata": {
    "id": "QiHz924QH0sJ"
   },
   "source": [
    "### Distribution of sepal-width and sepal-length for each specie"
   ]
  },
  {
   "cell_type": "code",
   "execution_count": null,
   "metadata": {
    "id": "IBy_DuYWb6FR"
   },
   "outputs": [],
   "source": [
    "\n",
    "iris_setosa_sepal_width = iris_dataset[iris_dataset[\"species\"]=='setosa'][\"sepal_width\"] \n",
    "\n",
    "## TO DO:\n",
    "## Fill the spaces according to the example above in order to get the sepal_width for \n",
    "## virginica and versicolor flowers \n",
    "iris_virginica_sepal_width = iris_dataset[iris_dataset[\"species\"]=='virginica']***\n",
    "iris_versicolor_sepal_width = iris_dataset[iris_dataset[\"species\"]=='versicolor']***"
   ]
  },
  {
   "cell_type": "code",
   "execution_count": null,
   "metadata": {
    "ExecuteTime": {
     "end_time": "2020-12-17T22:02:07.035115Z",
     "start_time": "2020-12-17T22:02:06.781271Z"
    },
    "id": "bwQxiQwOH0sJ"
   },
   "outputs": [],
   "source": [
    "\n",
    "f, (ax1, ax2, ax3) = plt.subplots(1, 3, sharey=True, sharex=True, figsize=(15,4))\n",
    "\n",
    "plt.suptitle(\"Sepal Width\") \n",
    "ax1.hist(iris_setosa_sepal_width, edgecolor='black', color = \"green\")\n",
    "ax1.set_title('Setosa')\n",
    "ax1.set_xlabel(\"cm\") \n",
    "ax1.set_ylabel(\"Flowers Count\")\n",
    "\n",
    "## TO DO:\n",
    "ax2.hist(***, edgecolor='black', color = \"red\")\n",
    "## TO DO:\n",
    "## Set title, xlabel and y label for the histogramme\n",
    "***\n",
    "\n",
    "ax3.hist(***, edgecolor='black', color = \"blue\")\n",
    "## TO DO:\n",
    "## Set title, xlabel and y label for the histogramme\n",
    "***\n",
    "\n",
    "plt.show()"
   ]
  },
  {
   "cell_type": "code",
   "execution_count": null,
   "metadata": {
    "ExecuteTime": {
     "end_time": "2020-12-17T22:02:18.900540Z",
     "start_time": "2020-12-17T22:02:18.747596Z"
    },
    "id": "tvXoQgKWH0sK"
   },
   "outputs": [],
   "source": [
    "## TO DO:\n",
    "# Set the sepal_width variables for virginica and versicolor species\n",
    "plt.figure(figsize=(7,4))\n",
    "\n",
    "plt.title(\"Sepal Width\") \n",
    "plt.hist(iris_setosa_sepal_width, edgecolor='black', alpha= 0.5, color = \"green\", label = 'Setosa')\n",
    "plt.hist(***, edgecolor='black', alpha= 0.5, color = \"red\", label = 'Virginica')\n",
    "plt.hist(***, edgecolor='black', alpha= 0.5, color = \"blue\", label = 'Versicolor')\n",
    "plt.xlabel(\"cm\") \n",
    "plt.ylabel(\"Flowers Count\")\n",
    "plt.legend()\n",
    "plt.show()"
   ]
  },
  {
   "cell_type": "code",
   "execution_count": null,
   "metadata": {
    "ExecuteTime": {
     "end_time": "2020-12-17T22:04:01.649773Z",
     "start_time": "2020-12-17T22:04:01.634926Z"
    },
    "id": "HbfPmye_H0sN"
   },
   "outputs": [],
   "source": [
    "iris_setosa_sepal_length = iris_dataset[iris_dataset[\"species\"]=='setosa'][\"sepal_length\"] \n",
    "\n",
    "## TO DO:\n",
    "## Fill the spaces according to the example above in order to get the sepal_length for \n",
    "## virginica and versicolor flowers \n",
    "iris_virginica_sepal_length = ***\n",
    "iris_versicolor_sepal_length = ***\n"
   ]
  },
  {
   "cell_type": "code",
   "execution_count": null,
   "metadata": {
    "ExecuteTime": {
     "end_time": "2020-12-17T22:04:28.505413Z",
     "start_time": "2020-12-17T22:04:28.344684Z"
    },
    "id": "H75lM3VfH0sN"
   },
   "outputs": [],
   "source": [
    "plt.figure(figsize=(7,4))\n",
    "\n",
    "## TO DO:\n",
    "# Set the sepal_length variables for setosa, virginica and versicolor species\n",
    "plt.title(\"Sepal Length\") \n",
    "plt.hist(***, edgecolor='black', alpha= 0.5, color = \"green\", label = 'Setosa')\n",
    "plt.hist(***, edgecolor='black', alpha= 0.5, color = \"red\", label = 'Virginica')\n",
    "plt.hist(***, edgecolor='black', alpha= 0.5, color = \"blue\", label = 'Versicolor')\n",
    "plt.xlabel(\"cm\") \n",
    "plt.ylabel(\"Flowers Count\")\n",
    "plt.legend()\n",
    "plt.show()"
   ]
  },
  {
   "cell_type": "markdown",
   "metadata": {
    "ExecuteTime": {
     "end_time": "2020-12-17T22:08:12.899236Z",
     "start_time": "2020-12-17T22:08:12.887252Z"
    },
    "id": "7RvsAEEZH0sO"
   },
   "source": [
    "<B> Observations: </B> \n",
    "\n",
    "\n",
    "<font color=\"red\"> From this analysis we can conclude that:\n",
    "\n",
    "1.   The sepal width for the three species is very similar, we can't really distinguish any species by its sepal width.\n",
    "</font>\n",
    "<font color=\"red\">\n",
    "2.   The sepal length, in contrast, seems to be a bit different for Iris Setosa than for the other two species. \n",
    "</font>"
   ]
  },
  {
   "cell_type": "markdown",
   "metadata": {
    "id": "jJpaan6eH0sP"
   },
   "source": [
    "### Distribution of petal-width and petal-length for each specie"
   ]
  },
  {
   "cell_type": "code",
   "execution_count": null,
   "metadata": {
    "ExecuteTime": {
     "end_time": "2020-12-17T22:10:58.033696Z",
     "start_time": "2020-12-17T22:10:58.018011Z"
    },
    "id": "GVcgd8XdH0sP"
   },
   "outputs": [],
   "source": [
    "iris_setosa_petal_width = iris_dataset[iris_dataset[\"species\"]=='setosa'][\"petal_width\"] \n",
    "## TO DO:\n",
    "## Fill the spaces according to the example above in order to get the petal_width for \n",
    "## virginica and versicolor flowers \n",
    "iris_virginica_petal_width = ***\n",
    "iris_versicolor_petal_width = ***\n"
   ]
  },
  {
   "cell_type": "code",
   "execution_count": null,
   "metadata": {
    "ExecuteTime": {
     "end_time": "2020-12-17T22:11:26.904890Z",
     "start_time": "2020-12-17T22:11:26.753286Z"
    },
    "id": "W6PMA7vnH0sP"
   },
   "outputs": [],
   "source": [
    "## TO DO:\n",
    "# Set the petal_width variables for setosa, virginica and versicolor species\n",
    "\n",
    "plt.figure(figsize=(7,4))\n",
    "\n",
    "plt.title(\"Petal Width\") \n",
    "plt.hist(***, edgecolor='black', alpha= 0.5, color = \"green\", label = 'Setosa')\n",
    "plt.hist(***, edgecolor='black', alpha= 0.5, color = \"red\", label = 'Virginica')\n",
    "plt.hist(***, edgecolor='black', alpha= 0.5, color = \"blue\", label = 'Versicolor')\n",
    "plt.xlabel(\"cm\") \n",
    "plt.ylabel(\"Flowers Count\")\n",
    "plt.legend()\n",
    "plt.show()"
   ]
  },
  {
   "cell_type": "code",
   "execution_count": null,
   "metadata": {
    "ExecuteTime": {
     "end_time": "2020-12-17T22:12:03.923702Z",
     "start_time": "2020-12-17T22:12:03.908073Z"
    },
    "id": "TYp6AK6eH0sQ"
   },
   "outputs": [],
   "source": [
    "iris_setosa_petal_length = iris_dataset[iris_dataset[\"species\"]=='setosa'][\"petal_length\"] \n",
    "## TO DO:\n",
    "## Fill the spaces according to the example above in order to get the petal_length for \n",
    "## virginica and versicolor flowers \n",
    "iris_virginica_petal_length = ***\n",
    "iris_versicolor_petal_length = ***\n"
   ]
  },
  {
   "cell_type": "code",
   "execution_count": null,
   "metadata": {
    "ExecuteTime": {
     "end_time": "2020-12-17T22:12:30.407396Z",
     "start_time": "2020-12-17T22:12:30.249568Z"
    },
    "id": "nrNqQs8LH0sQ"
   },
   "outputs": [],
   "source": [
    "## TO DO:\n",
    "# Set the petal_length variables for setosa, virginica and versicolor species\n",
    "\n",
    "plt.figure(figsize=(7,4))\n",
    "\n",
    "plt.title(\"Petal Length\") \n",
    "plt.hist(***, edgecolor='black', alpha= 0.5, color = \"green\", label = 'Setosa')\n",
    "plt.hist(***, edgecolor='black', alpha= 0.5, color = \"red\", label = 'Virginica')\n",
    "plt.hist(***, edgecolor='black', alpha= 0.5, color = \"blue\", label = 'Versicolor')\n",
    "plt.xlabel(\"cm\") \n",
    "plt.ylabel(\"Flowers Count\")\n",
    "plt.legend()\n",
    "plt.show()"
   ]
  },
  {
   "cell_type": "markdown",
   "metadata": {
    "ExecuteTime": {
     "end_time": "2020-12-17T22:16:14.260483Z",
     "start_time": "2020-12-17T22:16:14.249071Z"
    },
    "id": "0n7Qcl_CH0sQ"
   },
   "source": [
    "<B> Observations: </B> \n",
    "\n",
    "<font color=\"red\"> From this analysis we can conclude that:\n",
    "</font>\n",
    "<font color=\"red\">\n",
    "1.   The petal width for Iris Setosa is very different, we can really distinguish this specie from the others two. However, its distribution is not distributed properly : sparse.\n",
    "</font>\n",
    "<font color=\"red\">\n",
    "2.   The petal length, in contrast, we can really separate iris-setosa from the other two species.\n",
    "    </font>"
   ]
  },
  {
   "cell_type": "markdown",
   "metadata": {
    "id": "7V4c6FRRH0sR"
   },
   "source": [
    "# Significance Difference"
   ]
  },
  {
   "cell_type": "markdown",
   "metadata": {
    "id": "nLgEUoEPH0sS"
   },
   "source": [
    "Let's look at the boxplot distribution.\n",
    "\n",
    "A boxplot is a way of displaying the distribution of data based on a five-number summary: a lower bound value, a higher bound value, the median, and the first and third quartiles. Also it shows the outliers of the distribution."
   ]
  },
  {
   "cell_type": "code",
   "execution_count": null,
   "metadata": {
    "ExecuteTime": {
     "end_time": "2020-12-17T22:43:26.816083Z",
     "start_time": "2020-12-17T22:43:26.462006Z"
    },
    "id": "DFItOc6EH0sS"
   },
   "outputs": [],
   "source": [
    "\n",
    "f, (ax1, ax2, ax3, ax4) = plt.subplots(1, 4, sharey=True, sharex=True, figsize=(20,5))\n",
    "\n",
    "ax1.boxplot([iris_setosa_sepal_width, iris_versicolor_sepal_width, iris_virginica_sepal_width], labels=['Setosa', 'Versicolor', 'Virginica'], showfliers=True)\n",
    "ax1.set_title(\"Sepal Width\") \n",
    "ax1.set_xlabel(\"cm\") \n",
    "ax1.set_ylabel(\"Flowers Count\")\n",
    "\n",
    "## TO DO:\n",
    "# Set the sepal_length variables for setosa, virginica and versicolor species\n",
    "ax2.boxplot([***, ***, ***], labels=['Setosa', 'Versicolor', 'Virginica'], showfliers=True)\n",
    "ax2.set_title(\"Sepal Length\") \n",
    "ax2.set_xlabel(\"cm\") \n",
    "ax2.set_ylabel(\"Flowers Count\")\n",
    "\n",
    "## TO DO:\n",
    "# Set the petal_width variables for setosa, virginica and versicolor species\n",
    "ax3.boxplot([***, ***, ***], labels=['Setosa', 'Versicolor', 'Virginica'], showfliers=True)\n",
    "ax3.set_title(\"Petal Width\") \n",
    "ax3.set_xlabel(\"cm\") \n",
    "ax3.set_ylabel(\"Flowers Count\")\n",
    "\n",
    "## TO DO:\n",
    "# Set the petal_length variables for setosa, virginica and versicolor species\n",
    "ax4.boxplot([***, ***, ***], labels=['Setosa', 'Versicolor', 'Virginica'], showfliers=True)\n",
    "ax4.set_title(\"Petal Length\") \n",
    "ax4.set_xlabel(\"cm\") \n",
    "ax4.set_ylabel(\"Flowers Count\")\n",
    "\n",
    "plt.show()"
   ]
  },
  {
   "cell_type": "markdown",
   "metadata": {
    "id": "PaS9BYdCxbwL"
   },
   "source": [
    "We see a difference in the petal lengths and widths of Iris Setosa. This specie seems to be more distinguishable from the two others. Is this difference only seen by random or is it statistically significant?\n",
    "\n",
    "A statistical test can allow us to be more certain that the difference is not due to random."
   ]
  },
  {
   "cell_type": "code",
   "execution_count": null,
   "metadata": {
    "ExecuteTime": {
     "end_time": "2020-12-21T17:25:54.887136Z",
     "start_time": "2020-12-21T17:25:54.875895Z"
    },
    "id": "V-k6y4wmH0sS"
   },
   "outputs": [],
   "source": [
    "from scipy.stats import mannwhitneyu\n",
    "\n",
    "def mann_withney_u_test(distribution1, distribution2):\n",
    "    stat, p_value = mannwhitneyu(distribution1, distribution2, alternative='two-sided') \n",
    "    alpha = 0.05\n",
    "    if p_value > alpha:\n",
    "        print ('\\t mannwhitneyu Same distribution (fail to reject H0)', p_value)\n",
    "    else:\n",
    "        print ('\\t mannwhitneyu Different distribution (reject H0)', p_value)\n",
    " "
   ]
  },
  {
   "cell_type": "markdown",
   "metadata": {
    "id": "N6YvWwWTH0sS"
   },
   "source": [
    "The lower the p-value, the stronger the evidence against the null hypothesis.\n",
    "As a general rule, when the p-value is below 0.05, the null hypothesis can be rejected."
   ]
  },
  {
   "cell_type": "code",
   "execution_count": null,
   "metadata": {
    "ExecuteTime": {
     "end_time": "2020-12-21T17:25:57.012470Z",
     "start_time": "2020-12-21T17:25:56.992532Z"
    },
    "id": "GZ_slI3UH0sT"
   },
   "outputs": [],
   "source": [
    "print ('Comparing Petal Width: setosa vs versicolor')\n",
    "mann_withney_u_test(iris_setosa_petal_width, iris_versicolor_petal_width)\n",
    "print ('Comparing Petal Width: setosa vs virginica')\n",
    "## TO DO\n",
    "# Set variables for petah_width to compare setosa vs virginia flowers\n",
    "mann_withney_u_test(***, ***)\n",
    "print ()\n",
    "\n",
    "print ('Comparing Petal Length: setosa vs versicolor')\n",
    "mann_withney_u_test(iris_setosa_petal_length, iris_versicolor_petal_length)\n",
    "print ('Comparing Petal Length: setosa vs virginica')\n",
    "## TO DO\n",
    "# Set variables for petal_length to compare setosa vs virginia flowers\n",
    "mann_withney_u_test(***, ***)"
   ]
  },
  {
   "cell_type": "markdown",
   "metadata": {
    "id": "0WaPIFZPyCT_"
   },
   "source": [
    "<font color=\"blue\">To do at home:\n",
    "\n",
    "By means of a loop and your own function explore if there are significant differences between the flowers species and the other feautures of the flowers. </font>"
   ]
  },
  {
   "cell_type": "markdown",
   "metadata": {
    "id": "oqgsJRFwH0sT"
   },
   "source": [
    "<B> Observations: </B> \n",
    "\n",
    "<font color=\"red\">From this analysis we can conclude that:</p>\n",
    " </font>\n",
    "<font color=\"red\"> \n",
    "*   The outcome test verifies, with statistical significance, that the length and width distributions of the Iris Setosa petal differ from the other two species. This means that the Iris Setosa specie presents a marked difference according to its morphological features compared to Versicolor and Virginica.\n",
    " </font>"
   ]
  },
  {
   "cell_type": "markdown",
   "metadata": {
    "id": "P-vKWhzVH0sT"
   },
   "source": [
    "For more detail about the test mannwhitneyu, consulte the link below:\n",
    "    [Mann Whitney U Test](https://sphweb.bumc.bu.edu/otlt/mph-modules/bs/bs704_nonparametric/BS704_Nonparametric4.html)\n",
    "    "
   ]
  },
  {
   "cell_type": "markdown",
   "metadata": {
    "id": "9LibTRJGH0sT"
   },
   "source": [
    "# Scatter Plot"
   ]
  },
  {
   "cell_type": "markdown",
   "metadata": {
    "id": "iayNaaJYH0sU"
   },
   "source": [
    "A scatter plot is a 2-dimensional data visualization that present the values of two different variables : one plotted along the x-axis and the other plotted along the y-axis."
   ]
  },
  {
   "cell_type": "code",
   "execution_count": null,
   "metadata": {
    "ExecuteTime": {
     "end_time": "2020-12-21T14:20:59.658381Z",
     "start_time": "2020-12-21T14:20:59.418926Z"
    },
    "id": "nNQl-6R1H0sU"
   },
   "outputs": [],
   "source": [
    "plt.scatter(iris_setosa_petal_width, iris_setosa_petal_length,\n",
    "        color='red',        \n",
    "        alpha=0.5,        \n",
    "        label='Setosa')\n",
    "\n",
    "## TO DO\n",
    "# Set variables for petal_width vs petal_length for versicolor flowers\n",
    "plt.scatter(***, ***,\n",
    "        color='blue',        \n",
    "        alpha=0.5,        \n",
    "        label='Versicolor')\n",
    "\n",
    "## TO DO\n",
    "# Set variables for petal_width vs petal_length for virginica flowers\n",
    "plt.scatter(***, ***,\n",
    "        color='yellow',        \n",
    "        alpha=0.5,        \n",
    "        label='Virginica')\n",
    "\n",
    "plt.xlabel('petal width (cm)')\n",
    "plt.ylabel('petal length (cm)')\n",
    "plt.title('Iris dataset: petal width vs petal length')\n",
    "plt.legend(loc='lower right')\n",
    "plt.show()"
   ]
  },
  {
   "cell_type": "markdown",
   "metadata": {
    "id": "3bEkaBH5H0sU"
   },
   "source": [
    "<B> Observations: </B> \n",
    "\n",
    "<font color=\"red\">\n",
    "From this analysis we can conclude that: \n",
    " </font></p>\n",
    "\n",
    " <font color=\"red\">\n",
    "From the distributions above with the petal length and petal width we could separate the flowers species.\n",
    "</font> </p>\n",
    "\n",
    "<font color=\"red\">\n",
    "Example: (assumed observations from graph)\n",
    " </font>\n",
    "\n",
    "```python\n",
    "if 0 ≤ petal_length ≤ 2 and 0 ≤ petal_width ≤ 0.7 then setosa\n",
    "if 2 ≤ petal_lenght ≤ 5.2 and 1 ≤ petal_length ≤1.7 then versicolor\n",
    "else virginica\n",
    "```"
   ]
  },
  {
   "cell_type": "markdown",
   "metadata": {
    "id": "EgbKIPrgH0sU"
   },
   "source": [
    "# PCA : Principal Components Analysis"
   ]
  },
  {
   "cell_type": "markdown",
   "metadata": {
    "id": "241-TJB8H0sV"
   },
   "source": [
    "The groups Iris virginica and Iris versicolor are a little mixed: they are not linearly separable. \n",
    "\n",
    "To try to find a linear separation, it may be appropriate to use an automatic learning classifier.\n",
    "\n",
    "Depending on the data, sometimes it is only necessary to do a data transformation in order to detect the line that best separates the data. \n",
    "\n",
    "So, in our example we apply PCA! \n",
    "\n",
    "And we also integrate the information of the sepal features. These features can contain a statistical variance, which can reveal a more linear separability in different dimensions, while also reducing the amount of features! \n",
    "\n",
    "This is why PCA is useful."
   ]
  },
  {
   "cell_type": "code",
   "execution_count": null,
   "metadata": {
    "ExecuteTime": {
     "end_time": "2020-12-21T14:42:08.137203Z",
     "start_time": "2020-12-21T14:42:08.121119Z"
    },
    "id": "nDGJPbfxH0sV"
   },
   "outputs": [],
   "source": [
    "## Import libraries needed to perform PCA and to plot results\n",
    "from sklearn.preprocessing import StandardScaler\n",
    "from sklearn.decomposition import PCA\n",
    "import seaborn as sns\n",
    "\n",
    "## Let's get the feautures for all the flowers\n",
    "features = iris_dataset[['petal_length', 'petal_width', 'sepal_length', 'sepal_width']]"
   ]
  },
  {
   "cell_type": "markdown",
   "metadata": {
    "id": "nm_FsBjzj1NK"
   },
   "source": [
    "PCA use an StandardScaler function to help to standardize the dataset’s features onto unit scale (mean = 0 and variance = 1). This is a requirement for the optimal performance of many machine learning algorithms. \n"
   ]
  },
  {
   "cell_type": "code",
   "execution_count": null,
   "metadata": {
    "id": "dWM-U_fGkEi-"
   },
   "outputs": [],
   "source": [
    "scaled_features = StandardScaler().fit_transform(features)"
   ]
  },
  {
   "cell_type": "markdown",
   "metadata": {
    "id": "9AHBB1lHkGbb"
   },
   "source": [
    "Let's see the effect of Standarisation:"
   ]
  },
  {
   "cell_type": "code",
   "execution_count": null,
   "metadata": {
    "ExecuteTime": {
     "end_time": "2020-12-21T14:50:36.429543Z",
     "start_time": "2020-12-21T14:50:36.401390Z"
    },
    "id": "qDrVz60jH0sV"
   },
   "outputs": [],
   "source": [
    "iris_dataset.head()"
   ]
  },
  {
   "cell_type": "code",
   "execution_count": null,
   "metadata": {
    "ExecuteTime": {
     "end_time": "2020-12-21T14:50:41.356441Z",
     "start_time": "2020-12-21T14:50:41.328744Z"
    },
    "id": "qlORDHQZH0sV"
   },
   "outputs": [],
   "source": [
    "pd.DataFrame(scaled_features, columns = features.columns).head()"
   ]
  },
  {
   "cell_type": "markdown",
   "metadata": {
    "id": "xWqxoU45kSBz"
   },
   "source": [
    "Now, we can apply PCA function over the standarised data."
   ]
  },
  {
   "cell_type": "code",
   "execution_count": null,
   "metadata": {
    "ExecuteTime": {
     "end_time": "2020-12-21T14:51:14.555900Z",
     "start_time": "2020-12-21T14:51:12.680647Z"
    },
    "id": "s15gdgB3H0sV"
   },
   "outputs": [],
   "source": [
    "pca = PCA(n_components=2)\n",
    "principalComponents = pca.fit_transform(scaled_features)"
   ]
  },
  {
   "cell_type": "code",
   "execution_count": null,
   "metadata": {
    "ExecuteTime": {
     "end_time": "2020-12-21T14:56:54.458150Z",
     "start_time": "2020-12-21T14:56:54.450655Z"
    },
    "id": "pbGMglu1H0sW"
   },
   "outputs": [],
   "source": [
    "# Transform the output from PCA as a dataframe in order to visualized the results\n",
    "pca2_df = pd.DataFrame(data = principalComponents, columns = ['pca1', 'pca2'])\n",
    "finalDf = pd.concat([pca2_df, iris_dataset[['species']]], axis = 1)\n",
    "finalDf.head()"
   ]
  },
  {
   "cell_type": "code",
   "execution_count": null,
   "metadata": {
    "ExecuteTime": {
     "end_time": "2020-12-21T14:58:10.910242Z",
     "start_time": "2020-12-21T14:58:10.749692Z"
    },
    "id": "3LiK25dXH0sW"
   },
   "outputs": [],
   "source": [
    "sns.scatterplot(x=finalDf.pca1, y=finalDf.pca2, hue = finalDf.species)\n",
    "plt.ylabel('Principal Component 2')\n",
    "plt.xlabel('Principal Component 1')\n",
    "plt.show()"
   ]
  },
  {
   "cell_type": "markdown",
   "metadata": {
    "id": "MbcyqORXq52n"
   },
   "source": [
    "The the attribute explained_variance_ratio_ tells us how much information (variance) can be attributed to each of the principal components. Here, we observe that the first principal component contains 72.77% of the variance and the second principal component contains 23.03% of the variance. Together, we have a 95.80% of the information."
   ]
  },
  {
   "cell_type": "code",
   "execution_count": null,
   "metadata": {
    "id": "F_0tDeEVpiF3"
   },
   "outputs": [],
   "source": [
    "pca.explained_variance_ratio_"
   ]
  },
  {
   "cell_type": "markdown",
   "metadata": {
    "id": "aqouqDRJobGU"
   },
   "source": [
    "<B> Observations: </B> \n",
    "\n",
    "<font color=\"red\">\n",
    "From this analysis we can conclude that: </font></p>\n",
    "\n",
    "<font color=\"red\">\n",
    "* PCA serves to make a reduction on features. From 4 features we can have most of the information only in the 2 features that are the two first principal components. </p>\n",
    "* Most of the information 95.80% (variance) was explained for the 2 principal components features.</p>\n",
    "* From the plot above we noticed that the flowers seem well separated from each other. However, virginica and versicolor still being mixed. </p>\n",
    "</font> </p>\n"
   ]
  },
  {
   "cell_type": "markdown",
   "metadata": {
    "id": "KtxFoUGoodBs"
   },
   "source": [
    "# General Conlusions"
   ]
  },
  {
   "cell_type": "markdown",
   "metadata": {
    "id": "dOwf0if7vTrh"
   },
   "source": [
    "You can be proud that you have analyzed your data and that this has led you to some conclusions.\n",
    "In addition, I suppose you may have some ideas for further analyzing this data. With practice and dedication, you will be able to perform more pertinent analyses to answer new and interesting questions.\n",
    "\n",
    "Now, with the information we have accumulated throughout this tutorial, you could prepare a report for your supervisor at Charles Darwin Lab.\n",
    "\n",
    "Your report can contain an Introduction, a detailed Methods section, as well as a Results and Discussion section where you will carefully summarize your most important observations and present the relevant graphs and give a brief description of what could be done in the future to derive more knowledge using the Iris dataset.\n",
    "\n"
   ]
  },
  {
   "cell_type": "code",
   "execution_count": null,
   "metadata": {
    "id": "CqPcHr1yoi_9"
   },
   "outputs": [],
   "source": []
  }
 ],
 "metadata": {
  "colab": {
   "name": "Python_Tutorial.ipynb",
   "provenance": [],
   "toc_visible": true
  },
  "kernelspec": {
   "display_name": "Python 3",
   "language": "python",
   "name": "python3"
  },
  "language_info": {
   "codemirror_mode": {
    "name": "ipython",
    "version": 3
   },
   "file_extension": ".py",
   "mimetype": "text/x-python",
   "name": "python",
   "nbconvert_exporter": "python",
   "pygments_lexer": "ipython3",
   "version": "3.8.3"
  },
  "latex_envs": {
   "LaTeX_envs_menu_present": true,
   "autoclose": false,
   "autocomplete": true,
   "bibliofile": "biblio.bib",
   "cite_by": "apalike",
   "current_citInitial": 1,
   "eqLabelWithNumbers": true,
   "eqNumInitial": 1,
   "hotkeys": {
    "equation": "Ctrl-E",
    "itemize": "Ctrl-I"
   },
   "labels_anchors": false,
   "latex_user_defs": false,
   "report_style_numbering": false,
   "user_envs_cfg": false
  },
  "toc": {
   "base_numbering": 1,
   "nav_menu": {},
   "number_sections": true,
   "sideBar": true,
   "skip_h1_title": false,
   "title_cell": "Table of Contents",
   "title_sidebar": "Contents",
   "toc_cell": false,
   "toc_position": {
    "height": "calc(100% - 180px)",
    "left": "10px",
    "top": "150px",
    "width": "176px"
   },
   "toc_section_display": true,
   "toc_window_display": true
  }
 },
 "nbformat": 4,
 "nbformat_minor": 1
}
