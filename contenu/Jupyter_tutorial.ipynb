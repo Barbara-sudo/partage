{
 "cells": [
  {
   "cell_type": "markdown",
   "metadata": {},
   "source": [
    "# What Is A Jupyter Notebook?\n",
    "In this case, \"notebook\" or \"notebook documents\" denote documents that contain both code and rich text elements, such as figures, links, equations, ... Because of the mix of code and text elements, these documents are the ideal place to bring together an analysis description, and its results, as well as, they can be executed perform the data analysis in real time.\n",
    "\n",
    "The Jupyter Notebook App produces these documents.\n",
    "\n",
    "We'll talk about this in a bit.\n",
    "\n",
    "For now, you should know that \"Jupyter\" is a loose acronym meaning *Julia*, *Python*, and *R*. These programming languages were the first target languages of the Jupyter application, but nowadays, the notebook technology also supports many other languages. In this tutorial I'm illustrating the usage of Jupyter notebook with python.\n",
    "\n",
    "And there you have it: the Jupyter Notebook.  \n",
    "The Jupyter Notebook aims to support the latest versions of these browsers:\n",
    "* Chrome\n",
    "* Safari\n",
    "* Firefox"
   ]
  },
  {
   "cell_type": "markdown",
   "metadata": {},
   "source": [
    "# Running Jupyter Notebooks With The Anaconda Python Distribution\n",
    "One of the requirements here is Python, either Python *3.3* or greater or Python *2.7*. The general recommendation is that you use the **Anaconda** distribution to install both Python and the notebook application. \n",
    "\n",
    "The advantage of Anaconda is that you have access to over 720 packages that can easily be installed with Anaconda's conda, a package, dependency, and environment manager. You can follow the instructions for the installation of Anaconda *Caroline newsletter*. \n",
    "\n",
    "Is something not clear? You can always read up on the Jupyter installation instructions: https://jupyter.org/install, https://www.datacamp.com/community/tutorials/installing-anaconda-mac-os-x, https://www.datacamp.com/community/tutorials/installing-anaconda-windows.\n",
    "\n",
    "<img src=\"1_CrzFvh-ha0mkhUrA3q786A.png\">"
   ]
  },
  {
   "cell_type": "markdown",
   "metadata": {},
   "source": [
    "# Creating a new notebook document\n",
    "A new notebook may be created at any time, either from the dashboard, or using the File ‣ New menu option from within an active notebook. The new notebook is created within the same directory and will open in a new browser tab. It will also be reflected as a new entry in the notebook list on the dashboard\n",
    "![SegmentLocal](new-notebook.gif \"segment\")"
   ]
  },
  {
   "cell_type": "markdown",
   "metadata": {},
   "source": [
    "# Notebook user interface\n",
    "When you create a new notebook document, you will be presented with the notebook name, a menu bar, a toolbar and an empty code cell.\n",
    "\n",
    "<img src=\"blank-notebook-ui.png\">\n",
    "\n",
    "* **Notebook name**: The name displayed at the top of the page, next to the Jupyter logo, reflects the name of the ```.ipynb``` file. You will notice that at the top of the page is the word Untitled. This is the title for the page and the name of your Notebook. Since that isn’t a very descriptive name, let’s change it! Just move your mouse over the word Untitled and click on the text. You should now see an in-browser dialog titled Rename Notebook. Let’s rename this one to ```My first notebook.ipynb```.\n",
    "<img src=\"03_hello_jupyter.webp\">\n",
    "\n",
    "* **Menu bar**: The menu bar presents different options that may be used to manipulate the way the notebook functions.\n",
    "\n",
    "The first menu is the *File* menu. In it, you can create a new Notebook or open a preexisting one. This is also where you would go to rename a Notebook. I think the most interesting menu item is the *Download as* option. This allows you to download your file as *Notebook(ipynb)* or even as *PDF* file.\n",
    "\n",
    "Next is the *Edit* menu. Here you can cut, copy, and paste cells. This is also where you would go if you wanted to delete, split, or merge a cell. You can reorder cells here too.\n",
    "\n",
    "<font color='grey'>Note that some of the items in this menu are greyed out. The reason for this is that they do not apply to the currently selected cell. For example, a code cell cannot have an image inserted into it, but a Markdown cell can. If you see a greyed out menu item, try changing the cell’s type and see if the item becomes available to use.</font>\n",
    "\n",
    "The *Insert* menu is just for inserting cells above or below the currently selected cell.\n",
    "\n",
    "The *Cell* menu allows you to run one cell, a group of cells, or all the cells. You can also go here to change a cell’s type.\n",
    "\n",
    "The *Kernel* cell is for working with the kernel that is running in the background. Behind every notebook runs a kernel. When you run a code cell, that code is executed within the kernel. Any output is returned back to the cell to be displayed. The kernel’s state persists over time and between cells — it pertains to the document as a whole and not individual cells.\n",
    "Here you can restart the kernel, reconnect to it, shut it down, or even change which kernel your Notebook is using. You probably won’t be working with the Kernel all that often, but there are times when you are debugging a Notebook that you will find you need to restart the Kernel. When that happens, this is where you would go.\n",
    "\n",
    "<font color='grey'>Other menu not discussed:\n",
    "The *View* menu is useful for toggling the visibility of the header and toolbar. You can also toggle Line Numbers within cells on or off. This is also where you would go if you want to mess about with the cell’s toolbar.\n",
    "\n",
    "The *Widgets* menu is for saving and clearing widget state. Widgets are basically JavaScript widgets that you can add to your cells to make dynamic content using Python (or another Kernel).\n",
    "\n",
    "Finally you have the *Help* menu, which is where you go to learn about the Notebook’s keyboard shortcuts, a user interface tour, and lots of reference material.</font>\n",
    "\n",
    "* **Toolbar**: The tool bar gives a quick way of performing the most-used operations within the notebook, by clicking on an icon.\n",
    "\n",
    "* **Code cell**: the default type of cell. There are technically four cell types: Code, Markdown, Raw NBConvert, and Heading. The primary cell types that you will use are the Code and Markdown cell types.\n"
   ]
  },
  {
   "cell_type": "markdown",
   "metadata": {},
   "source": [
    "# Structure of a notebook document\n",
    "## Code cells\n",
    "A Notebook’s cell defaults to using code whenever you first create one, and that cell uses the kernel that you chose when you started your Notebook.\n",
    "\n",
    "In this case, you started yours with Python 3 as your kernel, so that means you can write Python code in your code cells. Since your initial Notebook has only one empty cell in it, the Notebook can’t really do anything.\n",
    "\n",
    "Thus, to verify that everything is working as it should, you can add some Python code to the cell and try running its contents.\n",
    "\n",
    "Let’s try adding the following code to that cell:"
   ]
  },
  {
   "cell_type": "code",
   "execution_count": 1,
   "metadata": {},
   "outputs": [
    {
     "name": "stdout",
     "output_type": "stream",
     "text": [
      "Hello Jupyter!\n"
     ]
    }
   ],
   "source": [
    "print('Hello Jupyter!')"
   ]
  },
  {
   "cell_type": "markdown",
   "metadata": {},
   "source": [
    "Running a cell means that you will execute the cell’s contents. To execute a cell, you can just select the cell and click the **Run** button that is in the row of buttons along the top. It’s towards the middle. If you prefer using your keyboard, you can just press **Shift**+**Enter**."
   ]
  },
  {
   "cell_type": "markdown",
   "metadata": {},
   "source": [
    "If you have multiple cells in your Notebook, and you run the cells in order, you can share your variables and imports across cells. This makes it easy to separate out your code into logical chunks without needing to reimport libraries or recreate variables or functions in every cell."
   ]
  },
  {
   "cell_type": "code",
   "execution_count": 2,
   "metadata": {},
   "outputs": [
    {
     "ename": "NameError",
     "evalue": "name 'x' is not defined",
     "output_type": "error",
     "traceback": [
      "\u001b[1;31m---------------------------------------------------------------------------\u001b[0m",
      "\u001b[1;31mNameError\u001b[0m                                 Traceback (most recent call last)",
      "\u001b[1;32m<ipython-input-2-6fcf9dfbd479>\u001b[0m in \u001b[0;36m<module>\u001b[1;34m\u001b[0m\n\u001b[1;32m----> 1\u001b[1;33m \u001b[0mx\u001b[0m\u001b[1;33m\u001b[0m\u001b[1;33m\u001b[0m\u001b[0m\n\u001b[0m",
      "\u001b[1;31mNameError\u001b[0m: name 'x' is not defined"
     ]
    }
   ],
   "source": [
    "x # read error help you debbug your code"
   ]
  },
  {
   "cell_type": "code",
   "execution_count": 3,
   "metadata": {},
   "outputs": [],
   "source": [
    "x = 3"
   ]
  },
  {
   "cell_type": "code",
   "execution_count": 4,
   "metadata": {},
   "outputs": [
    {
     "data": {
      "text/plain": [
       "3"
      ]
     },
     "execution_count": 4,
     "metadata": {},
     "output_type": "execute_result"
    }
   ],
   "source": [
    "x"
   ]
  },
  {
   "cell_type": "markdown",
   "metadata": {},
   "source": [
    "When you run a cell, you will notice that there are some square braces next to the word In to the left of the cell. The square braces will auto fill with a number that indicates the order that you ran the cells. For example, if you open a fresh Notebook and run the first cell at the top of the Notebook, the square braces will fill with the number 1."
   ]
  },
  {
   "cell_type": "code",
   "execution_count": 13,
   "metadata": {},
   "outputs": [
    {
     "name": "stdout",
     "output_type": "stream",
     "text": [
      "Enter your name Safia\n",
      "hi  Safia\n"
     ]
    }
   ],
   "source": [
    "# [*] : code is running\n",
    "name = input(\"Enter your name \")\n",
    "print(\"hi \", name)"
   ]
  },
  {
   "cell_type": "markdown",
   "metadata": {},
   "source": [
    "Cells only run top to bottom and they run one cell at a time. If their is a problem on the cell above you need to fix it to be able to run the cell bellow"
   ]
  },
  {
   "cell_type": "code",
   "execution_count": null,
   "metadata": {},
   "outputs": [],
   "source": [
    "print(\"Hope to see you in class soon!\")"
   ]
  },
  {
   "cell_type": "markdown",
   "metadata": {},
   "source": [
    "! Show tool bar button : run and move cell"
   ]
  },
  {
   "cell_type": "markdown",
   "metadata": {},
   "source": [
    "### Setup\n",
    "It’s common to start off with a code cell specifically for imports and setup, so that if you choose to add or change anything, you can simply edit and re-run the cell without causing any side-effects."
   ]
  },
  {
   "cell_type": "code",
   "execution_count": 6,
   "metadata": {},
   "outputs": [],
   "source": [
    "import pandas as pd\n",
    "import seaborn as sns \n",
    "sns.set(style=\"darkgrid\")"
   ]
  },
  {
   "cell_type": "code",
   "execution_count": 10,
   "metadata": {},
   "outputs": [
    {
     "data": {
      "text/html": [
       "<div>\n",
       "<style scoped>\n",
       "    .dataframe tbody tr th:only-of-type {\n",
       "        vertical-align: middle;\n",
       "    }\n",
       "\n",
       "    .dataframe tbody tr th {\n",
       "        vertical-align: top;\n",
       "    }\n",
       "\n",
       "    .dataframe thead th {\n",
       "        text-align: right;\n",
       "    }\n",
       "</style>\n",
       "<table border=\"1\" class=\"dataframe\">\n",
       "  <thead>\n",
       "    <tr style=\"text-align: right;\">\n",
       "      <th></th>\n",
       "      <th>sepal_length</th>\n",
       "      <th>sepal_width</th>\n",
       "      <th>petal_length</th>\n",
       "      <th>petal_width</th>\n",
       "      <th>species</th>\n",
       "    </tr>\n",
       "  </thead>\n",
       "  <tbody>\n",
       "    <tr>\n",
       "      <th>0</th>\n",
       "      <td>5.1</td>\n",
       "      <td>3.5</td>\n",
       "      <td>1.4</td>\n",
       "      <td>0.2</td>\n",
       "      <td>setosa</td>\n",
       "    </tr>\n",
       "    <tr>\n",
       "      <th>1</th>\n",
       "      <td>4.9</td>\n",
       "      <td>3.0</td>\n",
       "      <td>1.4</td>\n",
       "      <td>0.2</td>\n",
       "      <td>setosa</td>\n",
       "    </tr>\n",
       "    <tr>\n",
       "      <th>2</th>\n",
       "      <td>4.7</td>\n",
       "      <td>3.2</td>\n",
       "      <td>1.3</td>\n",
       "      <td>0.2</td>\n",
       "      <td>setosa</td>\n",
       "    </tr>\n",
       "    <tr>\n",
       "      <th>3</th>\n",
       "      <td>4.6</td>\n",
       "      <td>3.1</td>\n",
       "      <td>1.5</td>\n",
       "      <td>0.2</td>\n",
       "      <td>setosa</td>\n",
       "    </tr>\n",
       "    <tr>\n",
       "      <th>4</th>\n",
       "      <td>5.0</td>\n",
       "      <td>3.6</td>\n",
       "      <td>1.4</td>\n",
       "      <td>0.2</td>\n",
       "      <td>setosa</td>\n",
       "    </tr>\n",
       "  </tbody>\n",
       "</table>\n",
       "</div>"
      ],
      "text/plain": [
       "   sepal_length  sepal_width  petal_length  petal_width species\n",
       "0           5.1          3.5           1.4          0.2  setosa\n",
       "1           4.9          3.0           1.4          0.2  setosa\n",
       "2           4.7          3.2           1.3          0.2  setosa\n",
       "3           4.6          3.1           1.5          0.2  setosa\n",
       "4           5.0          3.6           1.4          0.2  setosa"
      ]
     },
     "execution_count": 10,
     "metadata": {},
     "output_type": "execute_result"
    }
   ],
   "source": [
    "# Investigating Our Data Set\n",
    "iris = sns.load_dataset(\"iris\") \n",
    "iris.head()"
   ]
  },
  {
   "cell_type": "code",
   "execution_count": 11,
   "metadata": {},
   "outputs": [
    {
     "data": {
      "text/plain": [
       "<matplotlib.axes._subplots.AxesSubplot at 0x2065fbc13a0>"
      ]
     },
     "execution_count": 11,
     "metadata": {},
     "output_type": "execute_result"
    },
    {
     "data": {
      "image/png": "[encoded data removed]",
      "text/plain": [
       "<Figure size 432x288 with 2 Axes>"
      ]
     },
     "metadata": {},
     "output_type": "display_data"
    }
   ],
   "source": [
    "sns.heatmap(iris.corr()) "
   ]
  },
  {
   "cell_type": "markdown",
   "metadata": {},
   "source": [
    "## Markdown cells\n",
    "\n",
    "If you want you can add comment to yout cell as you were taught in your python and R class: ` # comment line`. But Jupyter Notebook supports Markdown, which is a markup language that is a superset of HTML abd is very usefull to annotate your code. This tutorial will cover some of the basics of what you can do with Markdown.\n",
    "\n",
    "Set a new cell to Markdown and then add the following text to the cell:"
   ]
  },
  {
   "cell_type": "markdown",
   "metadata": {},
   "source": [
    "Use single _underscore_ or single *asterisks* to get italic"
   ]
  },
  {
   "cell_type": "markdown",
   "metadata": {},
   "source": [
    "Use single _underscore_ or single *asterisks* to get italic"
   ]
  },
  {
   "cell_type": "markdown",
   "metadata": {},
   "source": [
    "If you would prefer to bold your text, use a __double underscore__ or **double asterisk**."
   ]
  },
  {
   "cell_type": "markdown",
   "metadata": {},
   "source": [
    "If you would prefer to bold your text, use a __double underscore__ or **double asterisk**."
   ]
  },
  {
   "cell_type": "markdown",
   "metadata": {},
   "source": [
    "### Headers\n",
    "Creating headers in Markdown is also quite simple. You just have to use the humble pound sign. The more pound signs you use, the smaller the header. Jupyter Notebook even kind of previews it for you:"
   ]
  },
  {
   "cell_type": "markdown",
   "metadata": {},
   "source": [
    "# Header 1\n",
    "## Header 2\n",
    "### Header 3"
   ]
  },
  {
   "cell_type": "markdown",
   "metadata": {},
   "source": [
    "Then when you run the cell, you will end up with a nicely formatted header:\n",
    "# Header 1\n",
    "## Header 2\n",
    "### Header 3"
   ]
  },
  {
   "cell_type": "markdown",
   "metadata": {},
   "source": [
    "Using Markdown is a great way to organize your analysis by expliciting your step and might help you if you want to make a presentation, for example: \n",
    "### Bellow is a graph of a diagonal line"
   ]
  },
  {
   "cell_type": "code",
   "execution_count": 14,
   "metadata": {},
   "outputs": [
    {
     "data": {
      "image/png": "[encoded data removed]",
      "text/plain": [
       "<Figure size 432x288 with 1 Axes>"
      ]
     },
     "metadata": {},
     "output_type": "display_data"
    }
   ],
   "source": [
    "import matplotlib.pyplot as plt\n",
    "plt.plot([1,2,3,4],[1,2,3,4])\n",
    "plt.show()"
   ]
  },
  {
   "cell_type": "markdown",
   "metadata": {},
   "source": [
    "### Lists\n",
    "You can create a list (bullet points) by using dashes, plus signs, or asterisks. Here is an example:"
   ]
  },
  {
   "cell_type": "markdown",
   "metadata": {},
   "source": [
    "* item 1\n",
    "* item 2\n",
    "* item 3\n",
    "    * sub_item 1"
   ]
  },
  {
   "cell_type": "markdown",
   "metadata": {},
   "source": [
    "* item 1\n",
    "* item 2\n",
    "* item 3\n",
    "    * sub_item 1"
   ]
  },
  {
   "cell_type": "markdown",
   "metadata": {},
   "source": [
    "### Insert code\n",
    "If you want to insert a code example that you don’t want your end user to actually run, you can use Markdown to insert it. \n",
    "For inline code highlighting, just surround the code with `backticks`. If you want to insert a block of code, you can use triple backticks and also specify the programming language:\n",
    "```python\n",
    "hello = \"hello wolrd!\"\n",
    "print(hello)\n",
    "```"
   ]
  },
  {
   "cell_type": "markdown",
   "metadata": {},
   "source": [
    "Link to improve markdown : https://stackedit.io/  \n",
    "If you want to insert equation you can use latex: https://www.codecogs.com/latex/eqneditor.php"
   ]
  },
  {
   "cell_type": "markdown",
   "metadata": {},
   "source": [
    "# Keyboard shortcuts\n",
    "* Esc: Command mode  \n",
    "In command mode, you can navigate around the notebook using keyboard shortcuts.\n",
    "    * a : create cell above\n",
    "    * b : create cell bellow\n",
    "    * c : copy cell\n",
    "    * v : paste cell\n",
    "    * x : cut cell\n",
    "    * dd : delete cell\n",
    "    * m : switch to markdown cell type\n",
    "    * y : switch to code cell type\n",
    "    * ctrl + shift + p : list of commands in the command palette\n",
    "\n",
    "* Enter: Edit mode  \n",
    "In edit mode, you can edit text in cells.\n",
    "\n",
    "<ins>Bibliography:</ins>  \n",
    "https://realpython.com/jupyter-notebook-introduction/  \n",
    "https://jupyter-notebook.readthedocs.io/en/stable/notebook.html  \n",
    "https://www.youtube.com/watch?v=3C9E2yPBw7s&ab_channel=Simplilearn  \n",
    "https://www.youtube.com/watch?v=HW29067qVWk&ab_channel=CoreySchafer"
   ]
  }
 ],
 "metadata": {
  "kernelspec": {
   "display_name": "Python 3",
   "language": "python",
   "name": "python3"
  },
  "language_info": {
   "codemirror_mode": {
    "name": "ipython",
    "version": 3
   },
   "file_extension": ".py",
   "mimetype": "text/x-python",
   "name": "python",
   "nbconvert_exporter": "python",
   "pygments_lexer": "ipython3",
   "version": "3.8.3"
  }
 },
 "nbformat": 4,
 "nbformat_minor": 4
}
