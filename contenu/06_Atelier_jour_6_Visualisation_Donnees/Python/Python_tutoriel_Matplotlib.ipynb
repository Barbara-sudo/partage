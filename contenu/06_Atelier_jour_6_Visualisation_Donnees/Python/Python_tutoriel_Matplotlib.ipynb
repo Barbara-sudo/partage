{
 "cells": [
  {
   "cell_type": "markdown",
   "metadata": {},
   "source": [
    "\n",
    "# Data.Trek 2021 - Week 3 : Data Visualization in Python\n",
    "## Intro to the Matplotlib library\n",
    "\n",
    "Instructional Designer: Caroline Labelle, IRIC - Institute for Research in Immunology and Cancer, Université de Montréal\n",
    "\n",
    "Instructor: Sébastien Boisvert, Ph.D., Laboratoires Bodycad\n",
    "\n",
    "______ \n",
    "\n",
    "This tutorial aims at introducing participant to basic functionalities of the Python's library **Matplotlib**. The tutorial is divided in five parts: basic plots, plot attributes, subplots, and plotting the *Iris dataset*.\n",
    "\n",
    "\n",
    "### Contents\n",
    "\n",
    "```\n",
    "1. General Setup\n",
    "2. Basic Plots\n",
    "    2.1. Scatter plot\n",
    "    2.2. Histogram\n",
    "3. Plot Attributes\n",
    "    3.1. Axis labels and plot title\n",
    "    3.2. Plot style and colors\n",
    "    3.3. Adding horizontal and vertical lines\n",
    "    3.4. Labels and \n",
    "4. Figure and Subplots\n",
    "5. Plotting the Iris Dataset (example)\n",
    "```"
   ]
  },
  {
   "cell_type": "markdown",
   "metadata": {},
   "source": [
    "## 1. General Setup\n",
    "\n",
    "We are using Python 3."
   ]
  },
  {
   "cell_type": "code",
   "execution_count": null,
   "metadata": {},
   "outputs": [],
   "source": [
    "import sys\n",
    "print(\"Python version :\", sys.version)"
   ]
  },
  {
   "cell_type": "markdown",
   "metadata": {},
   "source": [
    "Import the **Matplotlib** library and check the version."
   ]
  },
  {
   "cell_type": "code",
   "execution_count": null,
   "metadata": {},
   "outputs": [],
   "source": [
    "import matplotlib as mpl\n",
    "import matplotlib.pyplot as plt"
   ]
  },
  {
   "cell_type": "code",
   "execution_count": null,
   "metadata": {},
   "outputs": [],
   "source": [
    "print (\"Matplotlib version :\", mpl.__version__)"
   ]
  },
  {
   "cell_type": "markdown",
   "metadata": {},
   "source": [
    "To test various plots and plot attributes, we will be using synthetic datasets. In order to generate them, we need to import some librairies."
   ]
  },
  {
   "cell_type": "code",
   "execution_count": null,
   "metadata": {},
   "outputs": [],
   "source": [
    "import numpy as np\n",
    "import random"
   ]
  },
  {
   "cell_type": "markdown",
   "metadata": {},
   "source": [
    "## 2. Basic Plots"
   ]
  },
  {
   "cell_type": "markdown",
   "metadata": {},
   "source": [
    "### Line Plot\n",
    "Ressource: https://matplotlib.org/3.2.1/api/_as_gen/matplotlib.pyplot.plot.html\n",
    "\n",
    "Line plots are useful, when we want to visualize $y = f(x)$ functions.\n",
    "\n",
    "Let's use $\\sin$ and $\\cos$ functions in our examples."
   ]
  },
  {
   "cell_type": "code",
   "execution_count": null,
   "metadata": {},
   "outputs": [],
   "source": [
    "## Numpy arange (start, end, jump)\n",
    "x_line = np.arange(0, 15, 0.1)\n",
    "\n",
    "y_sin = np.sin(x_line)\n",
    "y_cos = np.cos(x_line)"
   ]
  },
  {
   "cell_type": "markdown",
   "metadata": {},
   "source": [
    "We can easily draw lines using the ```plot``` function: ```plt.plot(x, y, args**)```."
   ]
  },
  {
   "cell_type": "markdown",
   "metadata": {},
   "source": [
    "To display a plot without saving it to a file, we can use the ```show``` function: ```plt.show()```."
   ]
  },
  {
   "cell_type": "code",
   "execution_count": null,
   "metadata": {},
   "outputs": [],
   "source": [
    "## Plot the sin function\n",
    "plt.plot(x_line, y_sin)\n",
    "plt.show()"
   ]
  },
  {
   "cell_type": "markdown",
   "metadata": {},
   "source": [
    "Now, let's generate two new datasets."
   ]
  },
  {
   "cell_type": "code",
   "execution_count": null,
   "metadata": {},
   "outputs": [],
   "source": [
    "y_sin_shift = [i+2 for i in y_sin]\n",
    "y_cos_shift = [i+2 for i in y_cos]"
   ]
  },
  {
   "cell_type": "markdown",
   "metadata": {},
   "source": [
    "When plotting line graphs, we can specify various **line types** with the argument ```ls```.\n",
    "\n",
    "The main **line types** are:\n",
    "1. Solid ______\n",
    "2. Dashed -----\n",
    "3. Dashdot -.-.-.-\n",
    "4. Dot ......\n",
    "\n",
    "The **line width** can also be modified using the ```lw``` argument."
   ]
  },
  {
   "cell_type": "code",
   "execution_count": null,
   "metadata": {},
   "outputs": [],
   "source": [
    "## Plot the sin function with solid linestyle (ls)\n",
    "plt.plot(x_line, y_sin, ls='-', lw=1)\n",
    "\n",
    "## Plot the cos function with dashed linestyle \n",
    "plt.plot(x_line, y_cos, ls='--')\n",
    "\n",
    "## Plot the cos function with dashdot linestyle \n",
    "plt.plot(x_line, y_sin_shift, ls='-.', lw=3)\n",
    "\n",
    "## Plot the cos function with dot linestyle \n",
    "plt.plot(x_line, y_cos_shift, ls=':')\n",
    "plt.show()"
   ]
  },
  {
   "cell_type": "markdown",
   "metadata": {},
   "source": [
    "We can also define a specific ```marker``` to illustrate are linked datapoints."
   ]
  },
  {
   "cell_type": "code",
   "execution_count": null,
   "metadata": {},
   "outputs": [],
   "source": [
    "x = range(10)\n",
    "y = np.random.normal(0, 10, 10)\n",
    "\n",
    "## Plot the x-y relationship and identify the data points with '*'\n",
    "plt.plot(x, y, marker='*')\n",
    "plt.show()"
   ]
  },
  {
   "cell_type": "markdown",
   "metadata": {},
   "source": [
    "### 2.1. Scatter plot\n",
    "Ressource: https://matplotlib.org/3.2.1/api/_as_gen/matplotlib.pyplot.plot.html\n",
    "\n",
    "There are two ways to draw scatter plots:\n",
    "1. using the ```plot``` function (faster when markers are identical in size and color) -> ```plt.plot(x, y, 'o', args**)```\n",
    "2. using the ```scatter```function -> ```plt.scatter(x, y, args**)```"
   ]
  },
  {
   "cell_type": "markdown",
   "metadata": {},
   "source": [
    "We will be using three randomly generated gaussian datasets."
   ]
  },
  {
   "cell_type": "code",
   "execution_count": null,
   "metadata": {},
   "outputs": [],
   "source": [
    "N = 150\n",
    "\n",
    "x_scatter = [np.random.normal(0, 2, N), np.random.normal(5, 2, N), np.random.normal(10, 2, N)]\n",
    "y_scatter = [np.random.normal(4, 5, N), np.random.normal(0, 2, N), np.random.normal(8, 2, N)]"
   ]
  },
  {
   "cell_type": "markdown",
   "metadata": {},
   "source": [
    "Let's first try with the ```plot```function...\n",
    "\n",
    "Remember what is the format of our $x$ and $y$ data!"
   ]
  },
  {
   "cell_type": "code",
   "execution_count": null,
   "metadata": {},
   "outputs": [],
   "source": [
    "## Plot the three datasets as scatter plots\n",
    "plt.plot(x_scatter, y_scatter, 'o', alpha=0.7)\n",
    "plt.show()"
   ]
  },
  {
   "cell_type": "markdown",
   "metadata": {},
   "source": [
    "Now, let's try with the ```scatter```function."
   ]
  },
  {
   "cell_type": "code",
   "execution_count": null,
   "metadata": {},
   "outputs": [],
   "source": [
    "## Plot the three datasets as scatter plots\n",
    "plt.scatter(x_scatter, y_scatter)\n",
    "plt.show()"
   ]
  },
  {
   "cell_type": "markdown",
   "metadata": {},
   "source": [
    "Fundamentally, ```scatter``` works with 1-D arrays; $x$ and $y$ may be input as 2-D arrays, but they will be flattened. This is why we are losing our three distinct datasets. To draw the various datasets as distinct instances within the same plot, we could use a ```for```loop. Each dataset will be assigned a default color."
   ]
  },
  {
   "cell_type": "markdown",
   "metadata": {},
   "source": [
    "We can use the ```alpha``` parameter to play with our marker transparency, which is useful when plotting a lot of overlapping points."
   ]
  },
  {
   "cell_type": "code",
   "execution_count": null,
   "metadata": {},
   "outputs": [],
   "source": [
    "## Plot the three datasets as distinct scatter plots\n",
    "for i in range(len(x_scatter)) :\n",
    "    plt.scatter(x_scatter[i], y_scatter[i], alpha=0.7)\n",
    "    \n",
    "plt.show()"
   ]
  },
  {
   "cell_type": "markdown",
   "metadata": {},
   "source": [
    "The default marker is ```o``` but there exists many more options."
   ]
  },
  {
   "cell_type": "code",
   "execution_count": null,
   "metadata": {},
   "outputs": [],
   "source": [
    "filled_markers = ['o', 'v', '^', '<', '>', '8', 's', 'p', '*', 'h', 'H', 'D', 'd', 'P', 'X']"
   ]
  },
  {
   "cell_type": "markdown",
   "metadata": {},
   "source": [
    "To change the marker style of a scatter plot, we must specify the ```marker``` argument. We can also specify the marker size with the ```s``` argument."
   ]
  },
  {
   "cell_type": "code",
   "execution_count": null,
   "metadata": {},
   "outputs": [],
   "source": [
    "x_marker = range(len(filled_markers))\n",
    "y_marker = x_marker\n",
    "\n",
    "## Plot the marker datapoints with different marker \n",
    "for i in x_marker :\n",
    "    plt.scatter(x_marker[i], y_marker[i], s=50, marker=filled_markers[i])"
   ]
  },
  {
   "cell_type": "markdown",
   "metadata": {},
   "source": [
    "### 2.2. Histogram\n",
    "Ressource: https://matplotlib.org/3.1.1/api/_as_gen/matplotlib.pyplot.hist.html\n",
    "\n",
    "We can plot the histogram of $x$ using the ```hist```function."
   ]
  },
  {
   "cell_type": "markdown",
   "metadata": {},
   "source": [
    "Let's generate a dataset of 5 randomly generated gaussian distributions."
   ]
  },
  {
   "cell_type": "code",
   "execution_count": null,
   "metadata": {},
   "outputs": [],
   "source": [
    "M = 250\n",
    "\n",
    "mu = [0, 4, 6, 10, 15]\n",
    "sigma = [4, 2, 1, 5, 3]\n",
    "\n",
    "norm_dist = [np.random.normal(mu[i], sigma[i], M) for i in range(len(mu))]"
   ]
  },
  {
   "cell_type": "markdown",
   "metadata": {},
   "source": [
    "Multiple data can be provided via x as a list of datasets of potentially different lengths, or as a 2-D ndarray in which each column is a dataset.\n",
    "\n",
    "The default ```histtype``` is set to ```bar```. "
   ]
  },
  {
   "cell_type": "code",
   "execution_count": null,
   "metadata": {},
   "outputs": [],
   "source": [
    "## Plot the histograms of the various distributions.\n",
    "plt.hist(norm_dist)\n",
    "plt.show()"
   ]
  },
  {
   "cell_type": "markdown",
   "metadata": {},
   "source": [
    "In our case, we would like to see the distributions, and the ```bar``` representation might not be appropriate. We can try to plot individual histograms using a ```for```loop."
   ]
  },
  {
   "cell_type": "code",
   "execution_count": null,
   "metadata": {},
   "outputs": [],
   "source": [
    "## Plot the histograms of the various distribution\n",
    "for i in range(len(norm_dist)) :\n",
    "    plt.hist(norm_dist[i], alpha=0.7)\n",
    "    \n",
    "plt.show()"
   ]
  },
  {
   "cell_type": "markdown",
   "metadata": {},
   "source": [
    "The results is more of what we expect, but it is not quite there yet: we want the various histograms to share the same bins. To do so, we can define the ```histtype``` to be either ```barstacked``` or ```stepfilled```.\n",
    "\n",
    "We can also specify that we want the density distribution, rather than the number of occurrences, by setting the ```density``` argument to ```True``` (by default, it is set to ```False```)"
   ]
  },
  {
   "cell_type": "code",
   "execution_count": null,
   "metadata": {},
   "outputs": [],
   "source": [
    "## Plot the histograms of the distributions using barstacked or stepfilled.\n",
    "plt.hist(norm_dist, histtype='stepfilled', alpha=0.7)\n",
    "plt.show()"
   ]
  },
  {
   "cell_type": "markdown",
   "metadata": {},
   "source": [
    "It can also be useful to define the number of bins, using the ```bins``` argument."
   ]
  },
  {
   "cell_type": "code",
   "execution_count": null,
   "metadata": {},
   "outputs": [],
   "source": [
    "## Change the number of bins to 50.\n",
    "plt.hist(norm_dist, bins=50, histtype='stepfilled', density=True,  alpha=0.7)\n",
    "plt.show()"
   ]
  },
  {
   "cell_type": "markdown",
   "metadata": {},
   "source": [
    "## 3. Plot attributes"
   ]
  },
  {
   "cell_type": "markdown",
   "metadata": {},
   "source": [
    "### 3.1. Axis labels and plot title"
   ]
  },
  {
   "cell_type": "markdown",
   "metadata": {},
   "source": [
    "We can add a title and axis labels to our plot by using the ```title```, ```xlabel``` and ```ylabel``` functions. They all take as input a string and optional arguments (*e.g.* font size and color).\n",
    "\n",
    "We ca integrate LaTEX notation with ```$...$``` and some variable values with ```%d```, ```%s``` and ```%f```.\n",
    "* ```'$K=3$, $n_{k}=150$' ``` -> $K=3$, $n_{k}=150$\n",
    "* ```'There are %d points' % (len(x_scatter[0]))```-> There are 150 points"
   ]
  },
  {
   "cell_type": "code",
   "execution_count": null,
   "metadata": {},
   "outputs": [],
   "source": [
    "for i in range(len(x_scatter)) :\n",
    "    plt.scatter(x_scatter[i], y_scatter[i], marker=filled_markers[i*3], alpha=0.7)\n",
    "\n",
    "## Add a title to our plot\n",
    "plt.title('Scatter Plot ($K=3$, $n_{k}=$%s)' % (len(x_scatter[0])))\n",
    "\n",
    "## Add axis labels to our plot\n",
    "plt.xlabel('First Component')\n",
    "plt.ylabel('Second Component')\n",
    "\n",
    "plt.show()"
   ]
  },
  {
   "cell_type": "markdown",
   "metadata": {},
   "source": [
    "### 3.2. Plot style and colors"
   ]
  },
  {
   "cell_type": "markdown",
   "metadata": {},
   "source": [
    "It is possible to use predefined plot styles. Matplotlib has a lot of options to choose from!"
   ]
  },
  {
   "cell_type": "code",
   "execution_count": null,
   "metadata": {},
   "outputs": [],
   "source": [
    "print (plt.style.available)"
   ]
  },
  {
   "cell_type": "markdown",
   "metadata": {},
   "source": [
    "To select a style, we use the ```style.use``` function. We can also define other attributes such as font size by using the ```rc``` functions. This style and these attributes will be applied to all new plots.\n",
    "\n",
    "Ressource: https://matplotlib.org/3.1.1/api/_as_gen/matplotlib.pyplot.rc.html"
   ]
  },
  {
   "cell_type": "code",
   "execution_count": null,
   "metadata": {},
   "outputs": [],
   "source": [
    "plt.style.use('seaborn-whitegrid')\n",
    "plt.rc('font', size=15)"
   ]
  },
  {
   "cell_type": "markdown",
   "metadata": {},
   "source": [
    "Let's see what our scatter plot looks like with this new style!"
   ]
  },
  {
   "cell_type": "code",
   "execution_count": null,
   "metadata": {},
   "outputs": [],
   "source": [
    "for i in range(len(x_scatter)) :\n",
    "    plt.scatter(x_scatter[i], y_scatter[i], marker=filled_markers[i*3], alpha=0.7)\n",
    "    \n",
    "plt.title('Scatter Plot ($K=3$, $n_{k}=$%s)' % (len(x_scatter[0])))\n",
    "plt.xlabel('First Component')\n",
    "plt.ylabel('Second Component')\n",
    "\n",
    "plt.show()"
   ]
  },
  {
   "cell_type": "markdown",
   "metadata": {},
   "source": [
    "Commands which take color arguments can use several formats to specify the colors.\n",
    "\n",
    "Each style has its own cycle of color: these are the colors used by default when we do not define a specific color. If we plot more elements than there are colors in the cycle, we will have color duplicates in our plot.\n",
    "\n",
    "We can access the various colors of the cycle with ```C``` followed by a digit: ```C0``` is the first color of our cycle. \n",
    "\n",
    "Ressources: https://matplotlib.org/2.0.2/api/colors_api.html"
   ]
  },
  {
   "cell_type": "code",
   "execution_count": null,
   "metadata": {},
   "outputs": [],
   "source": [
    "for i in range(20) :\n",
    "    #plt.scatter(i, i, s=50)\n",
    "    plt.scatter(i, i, s=50, color='C%d' % (i))\n",
    "    \n",
    "plt.show()"
   ]
  },
  {
   "cell_type": "markdown",
   "metadata": {},
   "source": [
    "We can also use the basic built-in colors and refer to them either with a single letter or their complete name: \n",
    "* ```b```: blue\n",
    "* ```g```: green\n",
    "* ```r```: red\n",
    "* ```c```: cyan\n",
    "* ```m```: magenta\n",
    "* ```y```: yellow\n",
    "* ```k```: black\n",
    "* ```w```: white"
   ]
  },
  {
   "cell_type": "code",
   "execution_count": null,
   "metadata": {},
   "outputs": [],
   "source": [
    "cl = ['b', 'g', 'r', 'c', 'm', 'y', 'k', 'w']\n",
    "\n",
    "for i in range(len(cl)) :\n",
    "    plt.scatter(i, i, s=50, color=cl[i])\n",
    "    \n",
    "plt.show()"
   ]
  },
  {
   "cell_type": "markdown",
   "metadata": {},
   "source": [
    "We can also explicitely define the color from the available color list, or with color codes.\n",
    "\n",
    "Ressources: https://matplotlib.org/2.0.0/_images/named_colors.png"
   ]
  },
  {
   "cell_type": "code",
   "execution_count": null,
   "metadata": {},
   "outputs": [],
   "source": [
    "cl = ['paleturquoise',  'mediumorchid', 'goldenrod', 'antiquewhite', '#ff800d']\n",
    "\n",
    "for i in range(len(cl)) :\n",
    "    plt.scatter(i, i, s=50, color=cl[i])\n",
    "    \n",
    "plt.show()"
   ]
  },
  {
   "cell_type": "markdown",
   "metadata": {},
   "source": [
    "### 3.3. Adding horizontal and vertical lines\n",
    "\n",
    "Horizontal and vertical lines can be very informative! They can illustrate mean and median, the bounds of a confidence interval, a threshold, a reference value, etc.\n",
    "\n",
    "They are very simple to plot :D \n",
    "* ```plt.axhline(y, args**)```\n",
    "* ```plt.axvline(x, args**)```\n",
    "\n",
    "The arguments are similar to the ones used when drawing a line plot: ```ls```, ```lw```, ```color```, etc.\n",
    "\n",
    "Ressource (horizontal line): https://matplotlib.org/3.1.1/api/_as_gen/matplotlib.pyplot.axhline.html\n",
    "\n",
    "Ressource (vertical line): https://matplotlib.org/api/_as_gen/matplotlib.pyplot.axvline.html "
   ]
  },
  {
   "cell_type": "code",
   "execution_count": null,
   "metadata": {},
   "outputs": [],
   "source": [
    "for i in range(len(x_scatter)) :\n",
    "    plt.scatter(x_scatter[i], y_scatter[i], marker=filled_markers[i*3], alpha=0.7, color='C%d' % (i))\n",
    "    \n",
    "    ## Plot the x-mean\n",
    "    plt.axvline(x=np.mean(x_scatter[i]), color='C%d' % (i), ls='-')\n",
    "    \n",
    "    ## Plot the y-mean\n",
    "    plt.axhline(y=np.mean(y_scatter[i]), color='C%d' % (i), ls='--')\n",
    "    \n",
    "    \n",
    "plt.title('Scatter Plot ($K=3$, $n_{k}=$%s)' % (len(x_scatter[0])))\n",
    "plt.xlabel('First Component')\n",
    "plt.ylabel('Second Component')\n",
    "\n",
    "plt.show()"
   ]
  },
  {
   "cell_type": "markdown",
   "metadata": {},
   "source": [
    "Here's an example when plotting histograms"
   ]
  },
  {
   "cell_type": "code",
   "execution_count": null,
   "metadata": {},
   "outputs": [],
   "source": [
    "plt.hist(norm_dist, bins=50, histtype='stepfilled', density=True, alpha=0.7)\n",
    "\n",
    "for i in range(len(norm_dist)) :\n",
    "    plt.axvline(np.mean(norm_dist[i]), color='C%d' % (i), alpha=1)\n",
    "    \n",
    "plt.title('Normal Distributions\\n($N=$%d, $n_{k}=$%d)' % (len(norm_dist), len(norm_dist[0])))\n",
    "plt.xlabel('Value')\n",
    "plt.ylabel('Density')\n",
    "    \n",
    "plt.show()"
   ]
  },
  {
   "cell_type": "code",
   "execution_count": null,
   "metadata": {},
   "outputs": [],
   "source": [
    "x = [[1], [2], [3], [4], [5]]\n",
    "cat = ['a', 'b', 'c', 'd', 'e']\n",
    "mean_x = [1, 2, 3, 4, 5]\n",
    "\n",
    "plt.bar(cat, mean_x, color=['k', 'g', 'y', 'r', 'b'])\n",
    "plt.show()"
   ]
  },
  {
   "cell_type": "markdown",
   "metadata": {},
   "source": [
    "### Labels and Legend\n",
    "Ressource: https://matplotlib.org/3.1.1/api/_as_gen/matplotlib.pyplot.legend.html"
   ]
  },
  {
   "cell_type": "code",
   "execution_count": null,
   "metadata": {},
   "outputs": [],
   "source": [
    "## Define the labels\n",
    "labels = ['Distribution %d' % (i) for i in range(len(norm_dist))]\n",
    "\n",
    "## Add the labels\n",
    "plt.hist(norm_dist, bins=50, histtype='stepfilled', density=True, alpha=0.7, label=labels)\n",
    "\n",
    "for i in range(len(norm_dist)) :\n",
    "    plt.axvline(np.mean(norm_dist[i]), color='C%d' % (i))\n",
    "    \n",
    "plt.title('Normal Distributions\\n($N=$%d, $n_{k}=$%d)' % (len(norm_dist), len(norm_dist[0])))\n",
    "plt.xlabel('Value')\n",
    "plt.ylabel('Density')\n",
    "\n",
    "## Show the legend and place it outside\n",
    "plt.legend(bbox_to_anchor=(1.,1.), ncol=2, frameon=True, facecolor='white')\n",
    "\n",
    "plt.show()"
   ]
  },
  {
   "cell_type": "markdown",
   "metadata": {},
   "source": [
    "## 4. Figure and Subplots\n",
    "Ressource: https://matplotlib.org/3.2.1/api/_as_gen/matplotlib.pyplot.subplots.html\n",
    "\n",
    "```plt.subplots(nrows, ncols, figsize, sharex, sharey)```"
   ]
  },
  {
   "cell_type": "code",
   "execution_count": null,
   "metadata": {},
   "outputs": [],
   "source": [
    "N = len(x_scatter)\n",
    "fig, ax = plt.subplots(len(x_scatter), len(y_scatter), figsize=(12, 9), sharex='row', sharey='row')\n",
    "\n",
    "### First row: scatter plot of FC vs. SC\n",
    "r = 0\n",
    "\n",
    "for i in range(N) :\n",
    "    c = i\n",
    "    ax[r][c].scatter(x_scatter[c], y_scatter[c], color='C%d' % (c))\n",
    "    ax[r][c].set_xlabel('First Component')\n",
    "    ax[r][c].set_ylabel('Second Component')\n",
    "    ax[r][c].set_title('Distribution %d' % (c))\n",
    "    \n",
    "### Second row: plot distribution of first component w/ mean\n",
    "r = 1\n",
    "\n",
    "for c in range(N) :    \n",
    "    ax[r][c].hist(x_scatter[c], histtype='stepfilled', color='C%d' % (c))\n",
    "    ax[r][c].axvline(np.mean(x_scatter[c]), ls='-', color='k', label=\"%.2f\" % (np.mean(x_scatter[c])))\n",
    "    ax[r][c].legend(frameon=True)\n",
    "\n",
    "    \n",
    "### Third row: plot distribution of second component w/ mean\n",
    "r = 2\n",
    "\n",
    "for c in range(N) :    \n",
    "    ax[r][c].hist(y_scatter[c], histtype='stepfilled', color='C%d' % (c))\n",
    "    ax[r][c].axvline(np.mean(y_scatter[c]), ls='-', color='k', label=\"%.2f\" % (np.mean(y_scatter[c])))\n",
    "    ax[r][c].legend(loc='upper right', frameon=True)\n",
    "\n",
    "plt.tight_layout()\n",
    "plt.show()"
   ]
  },
  {
   "cell_type": "markdown",
   "metadata": {},
   "source": [
    "Here's an example if we plot the datasets column-wise rather than row-wise. This visualization can be very helpful when comparing various datasets."
   ]
  },
  {
   "cell_type": "code",
   "execution_count": null,
   "metadata": {},
   "outputs": [],
   "source": [
    "N = len(x_scatter)\n",
    "fig, ax = plt.subplots(len(x_scatter), len(y_scatter), figsize=(12, 9), sharex='col', sharey='col')\n",
    "\n",
    "### First col: scatter plot of FC vs. SC\n",
    "c = 0\n",
    "\n",
    "for r in range(N) :\n",
    "    ax[r][c].scatter(x_scatter[r], y_scatter[r], color='C%d' % (r))\n",
    "    ax[r][c].set_xlabel('First Component')\n",
    "    ax[r][c].set_ylabel('Second Component')\n",
    "    ax[r][c].set_title('Dataset %s' % r)\n",
    "    \n",
    "### Second col: plot distribution of first component w/ mean\n",
    "c = 1\n",
    "\n",
    "for r in range(N) :\n",
    "    ax[r][c].hist(x_scatter[r], bins=20, histtype='stepfilled', density=True, color='C%d' % (r))\n",
    "    ax[r][c].axvline(np.mean(x_scatter[r]), ls='-', color='k')\n",
    "    ax[r][c].set_xlabel('First Component')\n",
    "    ax[r][c].set_ylabel('Density')\n",
    "    \n",
    "### Third col: plot distribution of second component w/ mean\n",
    "c = 2\n",
    "\n",
    "for r in range(N) :\n",
    "    ax[r][c].hist(y_scatter[r], bins=20, histtype='stepfilled', density=True, color='C%d' % (r))\n",
    "    ax[r][c].axvline(np.mean(y_scatter[r]), ls='-', color='k')\n",
    "    ax[r][c].set_xlabel('Second Component')\n",
    "    ax[r][c].set_ylabel('Density')\n",
    "\n",
    "plt.tight_layout()\n",
    "plt.show()"
   ]
  },
  {
   "cell_type": "markdown",
   "metadata": {},
   "source": [
    "## 5. Plotting the Iris Dataset (example)"
   ]
  },
  {
   "cell_type": "markdown",
   "metadata": {},
   "source": [
    "### 5.1. Exploration"
   ]
  },
  {
   "cell_type": "code",
   "execution_count": null,
   "metadata": {},
   "outputs": [],
   "source": [
    "## Import scikit learn library\n",
    "from sklearn import datasets\n",
    "from sklearn.decomposition import PCA"
   ]
  },
  {
   "cell_type": "code",
   "execution_count": null,
   "metadata": {},
   "outputs": [],
   "source": [
    "## Import the iris dataset\n",
    "iris = datasets.load_iris()\n",
    "names = iris.target_names\n",
    "features = iris.feature_names\n",
    "target = iris.target"
   ]
  },
  {
   "cell_type": "code",
   "execution_count": null,
   "metadata": {},
   "outputs": [],
   "source": [
    "print(names)\n",
    "print(features)\n"
   ]
  },
  {
   "cell_type": "markdown",
   "metadata": {},
   "source": [
    "### 5.2. Visualization of Iris features"
   ]
  },
  {
   "cell_type": "markdown",
   "metadata": {},
   "source": [
    "Let's plot each feature against other features."
   ]
  },
  {
   "cell_type": "code",
   "execution_count": null,
   "metadata": {},
   "outputs": [],
   "source": [
    "fig, ax = plt.subplots(1, 6, figsize=(24, 4))\n",
    "\n",
    "for i in range(len(target)) :\n",
    "    tg = target[i]\n",
    "    tmp = iris.data[i]\n",
    "   \n",
    "    subplot = 0\n",
    "    for x in range(0, len(features)):\n",
    "        for y in range(x + 1, len(features)):\n",
    "            ax[subplot].scatter(tmp[x], tmp[y], color='C%d' % (tg))\n",
    "            ax[subplot].set_xlabel(features[x])\n",
    "            ax[subplot].set_ylabel(features[y])\n",
    "            subplot += 1\n",
    "\n",
    "plt.tight_layout()\n",
    "plt.show()"
   ]
  },
  {
   "cell_type": "markdown",
   "metadata": {},
   "source": [
    "### 5.3. Principal component analysis (PCA)\n",
    "\n",
    "Principal component analysis is a method that computes principal components.\n",
    "This is done by performing a change of basis.\n",
    "\n",
    "For example, in the 2D plane, the basis vectors are typically\n",
    "\n",
    "$\\vec{i} = \\begin{bmatrix} 1 \\\\ 0 \\end{bmatrix} $\n",
    "\n",
    "and\n",
    "\n",
    "$\\vec{j} = \\begin{bmatrix} 0 \\\\ 1 \\end{bmatrix} $.\n",
    "\n",
    "New basis vectors allow principal component analysis to be performed.\n",
    "These new basis vectorsare obtainable by eigen value decomposition, for example."
   ]
  },
  {
   "cell_type": "code",
   "execution_count": null,
   "metadata": {},
   "outputs": [],
   "source": [
    "X_reduced = PCA(n_components=len(feature)).fit_transform(iris.data)"
   ]
  },
  {
   "cell_type": "code",
   "execution_count": null,
   "metadata": {},
   "outputs": [],
   "source": [
    "fig, ax = plt.subplots(1, 6, figsize=(24, 4))\n",
    "\n",
    "for i in range(len(target)) :\n",
    "    tg = target[i]\n",
    "    tmp = X_reduced[i]\n",
    "    \n",
    "    subplot = 0\n",
    "    for x in range(0, len(features)):\n",
    "        for y in range(x + 1, len(features)):\n",
    "            ax[subplot].scatter(tmp[x], tmp[y], color='C%d' % (tg))\n",
    "            subplot += 1\n",
    "\n",
    "# Print axis labels\n",
    "subplot = 0\n",
    "for x in range(0, len(features)):\n",
    "    for y in range(x + 1, len(features)):\n",
    "        pc1 = \"PC{}\".format(x + 1)\n",
    "        pc2 = \"PC{}\".format(y + 1)\n",
    "        ax[subplot].set_xlabel(pc1)\n",
    "        ax[subplot].set_ylabel(pc2)\n",
    "        subplot += 1\n",
    "\n",
    "#ax[0].legend()\n",
    "\n",
    "plt.tight_layout()\n",
    "plt.show()"
   ]
  }
 ],
 "metadata": {
  "kernelspec": {
   "display_name": "Python 3",
   "language": "python",
   "name": "python3"
  },
  "language_info": {
   "codemirror_mode": {
    "name": "ipython",
    "version": 3
   },
   "file_extension": ".py",
   "mimetype": "text/x-python",
   "name": "python",
   "nbconvert_exporter": "python",
   "pygments_lexer": "ipython3",
   "version": "3.8.5"
  }
 },
 "nbformat": 4,
 "nbformat_minor": 4
}
