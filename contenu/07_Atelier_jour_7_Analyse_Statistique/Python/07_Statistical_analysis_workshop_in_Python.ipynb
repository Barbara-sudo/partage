{
 "cells": [
  {
   "cell_type": "markdown",
   "metadata": {},
   "source": [
    "# Statistical analysis in Python\n",
    "\n",
    "Instructional designer and Instructor: Sébastien Boisvert, Ph.D.\n",
    "* Code: https://github.com/sebhtml\n",
    "* Social: https://twitter.com/sebhtml\n",
    "\n",
    "Duration: 60 minutes\n",
    "\n",
    "\n",
    "Note 1: This workshop is part of:\n",
    "**The 100 Days of Data.trek Challenge**, IVADO, 2021\n",
    "\n",
    "Note 2: the material of this workshop is written in English, but the workshop is given in French.\n",
    "\n"
   ]
  },
  {
   "cell_type": "markdown",
   "metadata": {},
   "source": [
    "\n",
    "## Contents\n",
    "\n",
    "```\n",
    "* Introduction (duration: 10 min)\n",
    "** This workshop covers only some of the basics.\n",
    "** Random variable\n",
    "** Event\n",
    "** Probability\n",
    "\n",
    "* Statistical measures (duration: 30 min)\n",
    "** Mean (arithmetic mean)\n",
    "** Variance\n",
    "** Coefficient of variation\n",
    "** Standard deviation\n",
    "** Standard score (Z-score)\n",
    "** Median\n",
    "** Percentiles\n",
    "** Quantiles\n",
    "** Pearson's Correlation Coefficient\n",
    "\n",
    "* Probability distributions (duration: 10 min)\n",
    "** Why do we need probability distributions ?\n",
    "** The simplest distribution: Bernoulli distribution\n",
    "** Normal distribution\n",
    "\n",
    "* Statistical hypothesis testing (duration: 10 min)\n",
    "** Hypotheses h0 and alternative hypothesis h1\n",
    "** The simplest statistical test: Student’s t-test\n",
    "```"
   ]
  },
  {
   "cell_type": "markdown",
   "metadata": {},
   "source": [
    "## Links\n",
    "\n",
    "* https://scipy-lectures.org/packages/statistics/index.html\n",
    "* https://www.twilio.com/blog/2017/10/basic-statistics-python-numpy-jupyter-notebook.html\n",
    "* https://ivado.ca/evenements/100-jours-de-ran-donnees-2/\n",
    "* https://ivado.ca/en/events/the-100-days-of-data-trek-challenge/\n",
    "* http://www.aebinum.umontreal.ca/datatrek2021.html\n",
    "* https://github.com/randonneesdatatrek/partage/issues/4\n",
    "* https://github.com/randonneesdatatrek/partage"
   ]
  }
 ],
 "metadata": {
  "kernelspec": {
   "display_name": "Python 3",
   "language": "python",
   "name": "python3"
  },
  "language_info": {
   "codemirror_mode": {
    "name": "ipython",
    "version": 3
   },
   "file_extension": ".py",
   "mimetype": "text/x-python",
   "name": "python",
   "nbconvert_exporter": "python",
   "pygments_lexer": "ipython3",
   "version": "3.8.5"
  }
 },
 "nbformat": 4,
 "nbformat_minor": 4
}
