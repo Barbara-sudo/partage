{
 "cells": [
  {
   "cell_type": "markdown",
   "metadata": {},
   "source": [
    "# Statistical analysis in Python\n",
    "\n",
    "Instructional designer and Instructor: Sébastien Boisvert, Ph.D.\n",
    "* Code: https://github.com/sebhtml\n",
    "* Social: https://twitter.com/sebhtml\n",
    "\n",
    "Duration: 60 minutes\n",
    "\n",
    "\n",
    "Note 1: This workshop is part of:\n",
    "**The 100 Days of Data.trek Challenge**, IVADO, 2021\n",
    "\n",
    "Note 2: the material of this workshop is written in English, but the workshop is given in French.\n",
    "\n"
   ]
  }
 ],
 "metadata": {
  "kernelspec": {
   "display_name": "Python 3",
   "language": "python",
   "name": "python3"
  },
  "language_info": {
   "codemirror_mode": {
    "name": "ipython",
    "version": 3
   },
   "file_extension": ".py",
   "mimetype": "text/x-python",
   "name": "python",
   "nbconvert_exporter": "python",
   "pygments_lexer": "ipython3",
   "version": "3.8.5"
  }
 },
 "nbformat": 4,
 "nbformat_minor": 4
}
